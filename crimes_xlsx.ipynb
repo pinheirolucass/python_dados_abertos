{
 "cells": [
  {
   "cell_type": "code",
   "execution_count": 1,
   "metadata": {},
   "outputs": [],
   "source": [
    "#importando biblioteca pandas e dando apelido de pd\n",
    "#importando biblioteca de plotar gráficos na tela\n",
    "\n",
    "import pandas as pd\n",
    "\n",
    "%matplotlib inline "
   ]
  },
  {
   "cell_type": "code",
   "execution_count": 2,
   "metadata": {},
   "outputs": [
    {
     "data": {
      "text/html": [
       "<div>\n",
       "<style scoped>\n",
       "    .dataframe tbody tr th:only-of-type {\n",
       "        vertical-align: middle;\n",
       "    }\n",
       "\n",
       "    .dataframe tbody tr th {\n",
       "        vertical-align: top;\n",
       "    }\n",
       "\n",
       "    .dataframe thead th {\n",
       "        text-align: right;\n",
       "    }\n",
       "</style>\n",
       "<table border=\"1\" class=\"dataframe\">\n",
       "  <thead>\n",
       "    <tr style=\"text-align: right;\">\n",
       "      <th></th>\n",
       "      <th>UF</th>\n",
       "      <th>Tipo Crime</th>\n",
       "      <th>Ano</th>\n",
       "      <th>Mês</th>\n",
       "      <th>Ocorrências</th>\n",
       "    </tr>\n",
       "  </thead>\n",
       "  <tbody>\n",
       "    <tr>\n",
       "      <th>0</th>\n",
       "      <td>Acre</td>\n",
       "      <td>Estupro</td>\n",
       "      <td>2015</td>\n",
       "      <td>janeiro</td>\n",
       "      <td>6</td>\n",
       "    </tr>\n",
       "    <tr>\n",
       "      <th>1</th>\n",
       "      <td>Acre</td>\n",
       "      <td>Furto de veículo</td>\n",
       "      <td>2015</td>\n",
       "      <td>janeiro</td>\n",
       "      <td>0</td>\n",
       "    </tr>\n",
       "    <tr>\n",
       "      <th>2</th>\n",
       "      <td>Acre</td>\n",
       "      <td>Homicídio doloso</td>\n",
       "      <td>2015</td>\n",
       "      <td>janeiro</td>\n",
       "      <td>13</td>\n",
       "    </tr>\n",
       "    <tr>\n",
       "      <th>3</th>\n",
       "      <td>Acre</td>\n",
       "      <td>Lesão corporal seguida de morte</td>\n",
       "      <td>2015</td>\n",
       "      <td>janeiro</td>\n",
       "      <td>0</td>\n",
       "    </tr>\n",
       "    <tr>\n",
       "      <th>4</th>\n",
       "      <td>Acre</td>\n",
       "      <td>Roubo a instituição financeira</td>\n",
       "      <td>2015</td>\n",
       "      <td>janeiro</td>\n",
       "      <td>0</td>\n",
       "    </tr>\n",
       "  </tbody>\n",
       "</table>\n",
       "</div>"
      ],
      "text/plain": [
       "     UF                       Tipo Crime   Ano      Mês  Ocorrências\n",
       "0  Acre                          Estupro  2015  janeiro            6\n",
       "1  Acre                 Furto de veículo  2015  janeiro            0\n",
       "2  Acre                 Homicídio doloso  2015  janeiro           13\n",
       "3  Acre  Lesão corporal seguida de morte  2015  janeiro            0\n",
       "4  Acre   Roubo a instituição financeira  2015  janeiro            0"
      ]
     },
     "execution_count": 2,
     "metadata": {},
     "output_type": "execute_result"
    }
   ],
   "source": [
    "#lendo o arquivo e salvando no DataFrame\n",
    "\n",
    "df = pd.read_excel('indicadoressegurancapublicaufjan20.xlsx')\n",
    "\n",
    "df.head()"
   ]
  },
  {
   "cell_type": "code",
   "execution_count": 3,
   "metadata": {},
   "outputs": [
    {
     "data": {
      "text/plain": [
       "Espírito Santo         567\n",
       "Mato Grosso do Sul     567\n",
       "Rio de Janeiro         549\n",
       "Maranhão               549\n",
       "Santa Catarina         549\n",
       "Mato Grosso            549\n",
       "Ceará                  549\n",
       "Pará                   549\n",
       "Amazonas               549\n",
       "Distrito Federal       549\n",
       "Pernambuco             549\n",
       "Roraima                549\n",
       "Piauí                  549\n",
       "Sergipe                548\n",
       "Alagoas                548\n",
       "Rio Grande do Sul      548\n",
       "Bahia                  548\n",
       "Minas Gerais           548\n",
       "Paraíba                547\n",
       "Tocantins              547\n",
       "Paraná                 546\n",
       "Goiás                  546\n",
       "Acre                   544\n",
       "Rondônia               540\n",
       "Rio Grande do Norte    538\n",
       "São Paulo              529\n",
       "Amapá                  503\n",
       "Name: UF, dtype: int64"
      ]
     },
     "execution_count": 3,
     "metadata": {},
     "output_type": "execute_result"
    }
   ],
   "source": [
    "df['UF'].value_counts()"
   ]
  },
  {
   "cell_type": "code",
   "execution_count": 4,
   "metadata": {},
   "outputs": [
    {
     "data": {
      "text/html": [
       "<div>\n",
       "<style scoped>\n",
       "    .dataframe tbody tr th:only-of-type {\n",
       "        vertical-align: middle;\n",
       "    }\n",
       "\n",
       "    .dataframe tbody tr th {\n",
       "        vertical-align: top;\n",
       "    }\n",
       "\n",
       "    .dataframe thead th {\n",
       "        text-align: right;\n",
       "    }\n",
       "</style>\n",
       "<table border=\"1\" class=\"dataframe\">\n",
       "  <thead>\n",
       "    <tr style=\"text-align: right;\">\n",
       "      <th></th>\n",
       "      <th>UF</th>\n",
       "      <th>Tipo Crime</th>\n",
       "      <th>Ano</th>\n",
       "      <th>Mês</th>\n",
       "      <th>Ocorrências</th>\n",
       "    </tr>\n",
       "  </thead>\n",
       "  <tbody>\n",
       "    <tr>\n",
       "      <th>535</th>\n",
       "      <td>Acre</td>\n",
       "      <td>Estupro</td>\n",
       "      <td>2020</td>\n",
       "      <td>janeiro</td>\n",
       "      <td>18</td>\n",
       "    </tr>\n",
       "    <tr>\n",
       "      <th>536</th>\n",
       "      <td>Acre</td>\n",
       "      <td>Furto de veículo</td>\n",
       "      <td>2020</td>\n",
       "      <td>janeiro</td>\n",
       "      <td>23</td>\n",
       "    </tr>\n",
       "    <tr>\n",
       "      <th>537</th>\n",
       "      <td>Acre</td>\n",
       "      <td>Homicídio doloso</td>\n",
       "      <td>2020</td>\n",
       "      <td>janeiro</td>\n",
       "      <td>46</td>\n",
       "    </tr>\n",
       "    <tr>\n",
       "      <th>538</th>\n",
       "      <td>Acre</td>\n",
       "      <td>Lesão corporal seguida de morte</td>\n",
       "      <td>2020</td>\n",
       "      <td>janeiro</td>\n",
       "      <td>0</td>\n",
       "    </tr>\n",
       "    <tr>\n",
       "      <th>539</th>\n",
       "      <td>Acre</td>\n",
       "      <td>Roubo a instituição financeira</td>\n",
       "      <td>2020</td>\n",
       "      <td>janeiro</td>\n",
       "      <td>0</td>\n",
       "    </tr>\n",
       "    <tr>\n",
       "      <th>...</th>\n",
       "      <td>...</td>\n",
       "      <td>...</td>\n",
       "      <td>...</td>\n",
       "      <td>...</td>\n",
       "      <td>...</td>\n",
       "    </tr>\n",
       "    <tr>\n",
       "      <th>14748</th>\n",
       "      <td>Tocantins</td>\n",
       "      <td>Roubo a instituição financeira</td>\n",
       "      <td>2020</td>\n",
       "      <td>janeiro</td>\n",
       "      <td>0</td>\n",
       "    </tr>\n",
       "    <tr>\n",
       "      <th>14749</th>\n",
       "      <td>Tocantins</td>\n",
       "      <td>Roubo de carga</td>\n",
       "      <td>2020</td>\n",
       "      <td>janeiro</td>\n",
       "      <td>0</td>\n",
       "    </tr>\n",
       "    <tr>\n",
       "      <th>14750</th>\n",
       "      <td>Tocantins</td>\n",
       "      <td>Roubo de veículo</td>\n",
       "      <td>2020</td>\n",
       "      <td>janeiro</td>\n",
       "      <td>39</td>\n",
       "    </tr>\n",
       "    <tr>\n",
       "      <th>14751</th>\n",
       "      <td>Tocantins</td>\n",
       "      <td>Roubo seguido de morte (latrocínio)</td>\n",
       "      <td>2020</td>\n",
       "      <td>janeiro</td>\n",
       "      <td>0</td>\n",
       "    </tr>\n",
       "    <tr>\n",
       "      <th>14752</th>\n",
       "      <td>Tocantins</td>\n",
       "      <td>Tentativa de homicídio</td>\n",
       "      <td>2020</td>\n",
       "      <td>janeiro</td>\n",
       "      <td>30</td>\n",
       "    </tr>\n",
       "  </tbody>\n",
       "</table>\n",
       "<p>266 rows × 5 columns</p>\n",
       "</div>"
      ],
      "text/plain": [
       "              UF                           Tipo Crime   Ano      Mês  \\\n",
       "535         Acre                              Estupro  2020  janeiro   \n",
       "536         Acre                     Furto de veículo  2020  janeiro   \n",
       "537         Acre                     Homicídio doloso  2020  janeiro   \n",
       "538         Acre      Lesão corporal seguida de morte  2020  janeiro   \n",
       "539         Acre       Roubo a instituição financeira  2020  janeiro   \n",
       "...          ...                                  ...   ...      ...   \n",
       "14748  Tocantins       Roubo a instituição financeira  2020  janeiro   \n",
       "14749  Tocantins                       Roubo de carga  2020  janeiro   \n",
       "14750  Tocantins                     Roubo de veículo  2020  janeiro   \n",
       "14751  Tocantins  Roubo seguido de morte (latrocínio)  2020  janeiro   \n",
       "14752  Tocantins               Tentativa de homicídio  2020  janeiro   \n",
       "\n",
       "       Ocorrências  \n",
       "535             18  \n",
       "536             23  \n",
       "537             46  \n",
       "538              0  \n",
       "539              0  \n",
       "...            ...  \n",
       "14748            0  \n",
       "14749            0  \n",
       "14750           39  \n",
       "14751            0  \n",
       "14752           30  \n",
       "\n",
       "[266 rows x 5 columns]"
      ]
     },
     "execution_count": 4,
     "metadata": {},
     "output_type": "execute_result"
    }
   ],
   "source": [
    "df[df['Ano']==2020]"
   ]
  },
  {
   "cell_type": "code",
   "execution_count": 5,
   "metadata": {},
   "outputs": [
    {
     "data": {
      "text/html": [
       "<div>\n",
       "<style scoped>\n",
       "    .dataframe tbody tr th:only-of-type {\n",
       "        vertical-align: middle;\n",
       "    }\n",
       "\n",
       "    .dataframe tbody tr th {\n",
       "        vertical-align: top;\n",
       "    }\n",
       "\n",
       "    .dataframe thead th {\n",
       "        text-align: right;\n",
       "    }\n",
       "</style>\n",
       "<table border=\"1\" class=\"dataframe\">\n",
       "  <thead>\n",
       "    <tr style=\"text-align: right;\">\n",
       "      <th></th>\n",
       "      <th>UF</th>\n",
       "      <th>Tipo Crime</th>\n",
       "      <th>Ano</th>\n",
       "      <th>Mês</th>\n",
       "      <th>Ocorrências</th>\n",
       "    </tr>\n",
       "  </thead>\n",
       "  <tbody>\n",
       "    <tr>\n",
       "      <th>3241</th>\n",
       "      <td>Distrito Federal</td>\n",
       "      <td>Estupro</td>\n",
       "      <td>2015</td>\n",
       "      <td>janeiro</td>\n",
       "      <td>45</td>\n",
       "    </tr>\n",
       "    <tr>\n",
       "      <th>3242</th>\n",
       "      <td>Distrito Federal</td>\n",
       "      <td>Furto de veículo</td>\n",
       "      <td>2015</td>\n",
       "      <td>janeiro</td>\n",
       "      <td>602</td>\n",
       "    </tr>\n",
       "    <tr>\n",
       "      <th>3243</th>\n",
       "      <td>Distrito Federal</td>\n",
       "      <td>Homicídio doloso</td>\n",
       "      <td>2015</td>\n",
       "      <td>janeiro</td>\n",
       "      <td>70</td>\n",
       "    </tr>\n",
       "    <tr>\n",
       "      <th>3244</th>\n",
       "      <td>Distrito Federal</td>\n",
       "      <td>Lesão corporal seguida de morte</td>\n",
       "      <td>2015</td>\n",
       "      <td>janeiro</td>\n",
       "      <td>2</td>\n",
       "    </tr>\n",
       "    <tr>\n",
       "      <th>3245</th>\n",
       "      <td>Distrito Federal</td>\n",
       "      <td>Roubo a instituição financeira</td>\n",
       "      <td>2015</td>\n",
       "      <td>janeiro</td>\n",
       "      <td>1</td>\n",
       "    </tr>\n",
       "  </tbody>\n",
       "</table>\n",
       "</div>"
      ],
      "text/plain": [
       "                    UF                       Tipo Crime   Ano      Mês  \\\n",
       "3241  Distrito Federal                          Estupro  2015  janeiro   \n",
       "3242  Distrito Federal                 Furto de veículo  2015  janeiro   \n",
       "3243  Distrito Federal                 Homicídio doloso  2015  janeiro   \n",
       "3244  Distrito Federal  Lesão corporal seguida de morte  2015  janeiro   \n",
       "3245  Distrito Federal   Roubo a instituição financeira  2015  janeiro   \n",
       "\n",
       "      Ocorrências  \n",
       "3241           45  \n",
       "3242          602  \n",
       "3243           70  \n",
       "3244            2  \n",
       "3245            1  "
      ]
     },
     "execution_count": 5,
     "metadata": {},
     "output_type": "execute_result"
    }
   ],
   "source": [
    "#criando um DataFrame com crimes ocorridos no DF\n",
    "\n",
    "df_crimes_df = df[df['UF'] == 'Distrito Federal']\n",
    "\n",
    "df_crimes_df.head()"
   ]
  },
  {
   "cell_type": "code",
   "execution_count": 6,
   "metadata": {},
   "outputs": [
    {
     "data": {
      "text/plain": [
       "Ano\n",
       "2015    13312\n",
       "2016    14791\n",
       "2017    12808\n",
       "2018    10862\n",
       "2019    10449\n",
       "2020      920\n",
       "Name: Ocorrências, dtype: int64"
      ]
     },
     "execution_count": 6,
     "metadata": {},
     "output_type": "execute_result"
    }
   ],
   "source": [
    "df_crimes_df.groupby('Ano')['Ocorrências'].sum()"
   ]
  },
  {
   "cell_type": "code",
   "execution_count": 7,
   "metadata": {},
   "outputs": [
    {
     "data": {
      "text/plain": [
       "<matplotlib.axes._subplots.AxesSubplot at 0x235da178088>"
      ]
     },
     "execution_count": 7,
     "metadata": {},
     "output_type": "execute_result"
    },
    {
     "data": {
      "image/png": "[encoded data removed]",
      "text/plain": [
       "<Figure size 432x288 with 1 Axes>"
      ]
     },
     "metadata": {
      "needs_background": "light"
     },
     "output_type": "display_data"
    }
   ],
   "source": [
    "#Criando um gráfico ordenado pelo ano e quantidade de ocorrências \n",
    "\n",
    "df_crimes_df.sort_values('Ano').groupby('Ano')['Ocorrências'].sum().plot.barh()"
   ]
  },
  {
   "cell_type": "code",
   "execution_count": 8,
   "metadata": {},
   "outputs": [
    {
     "data": {
      "text/plain": [
       "<matplotlib.axes._subplots.AxesSubplot at 0x235de563508>"
      ]
     },
     "execution_count": 8,
     "metadata": {},
     "output_type": "execute_result"
    },
    {
     "data": {
      "image/png": "[encoded data removed]",
      "text/plain": [
       "<Figure size 432x288 with 1 Axes>"
      ]
     },
     "metadata": {
      "needs_background": "light"
     },
     "output_type": "display_data"
    }
   ],
   "source": [
    "#Acompanhamento de casos do Crime de furto de veículos ao longo dos anos no DF\n",
    "\n",
    "df_crimes_df[df_crimes_df['Tipo Crime'].str.contains('Furto de veículo')].groupby('Ano')['Ocorrências'].sum().plot.bar()"
   ]
  }
 ],
 "metadata": {
  "kernelspec": {
   "display_name": "Python 3",
   "language": "python",
   "name": "python3"
  },
  "language_info": {
   "codemirror_mode": {
    "name": "ipython",
    "version": 3
   },
   "file_extension": ".py",
   "mimetype": "text/x-python",
   "name": "python",
   "nbconvert_exporter": "python",
   "pygments_lexer": "ipython3",
   "version": "3.7.6"
  }
 },
 "nbformat": 4,
 "nbformat_minor": 4
}
